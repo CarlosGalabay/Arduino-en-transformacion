{
 "cells": [
  {
   "cell_type": "markdown",
   "metadata": {},
   "source": [
    "## **🚀 Taller \"Transformación con Arduino\" 🤖**"
   ]
  },
  {
   "cell_type": "markdown",
   "metadata": {},
   "source": [
    "¡Saludos a todos los participantes del taller \"Transformación con Arduino\"! 🌟 En este taller, exploraremos la emocionante metodología de Design Thinking, tal como se enseña en la ESPOL. Aprenderemos a aplicar este enfoque innovador para crear proyectos creativos, utilizando herramientas poderosas como Arduino y la divertida biblioteca Pygame. Nuestro objetivo es lograr una interacción fluida entre humanos y máquinas, ¡como si estuviéramos en una película de ciencia ficción! 🎮 El Club de Phycom se esfuerza por compartir estas aventuras tecnológicas en nuestra comunidad de Physical Computing. ¡Prepárense para una experiencia emocionante! 🚀😃"
   ]
  },
  {
   "cell_type": "markdown",
   "metadata": {},
   "source": [
    "Bien, para comenzar, tendrás disponible en nuestro archivo llamado `main.py` el siguiente código:\n",
    "\n",
    "```python\n",
    "import pygame\n",
    "from sys import exit\n",
    "\n",
    "# Inicializar Pygame\n",
    "pygame.init()\n",
    "\n",
    "# Configuración de la pantalla\n",
    "screen_width = 800\n",
    "screen_height = 600\n",
    "screen = pygame.display.set_mode((screen_width, screen_height))\n",
    "pygame.display.set_caption(\"Mi Aplicación Pygame\")\n",
    "\n",
    "# Definir colores\n",
    "white = (255, 255, 255)\n",
    "\n",
    "# Game Loop\n",
    "while True:\n",
    "    for event in pygame.event.get():\n",
    "        if event.type == pygame.QUIT:\n",
    "            # Salir de Pygame\n",
    "            pygame.quit()\n",
    "            exit()\n",
    "\n",
    "    # Lógica del juego (aquí, no hay lógica aún)\n",
    "\n",
    "    # Limpiar la pantalla\n",
    "    screen.fill(white)\n",
    "\n",
    "    # Dibujar objetos (en este caso, no se dibuja nada)\n",
    "\n",
    "    # Actualizar la pantalla\n",
    "    pygame.display.update()\n",
    "```\n",
    "\n",
    "Si ejecutamos este código, obtendremos la siguiente imagen:\n",
    "\n",
    "<div style=\"text-align:center;\">\n",
    "  <img src=\"src/pictures/Blank_window.png\" alt=\"Blank Window\" width=\"500\" height=\"300\" />\n",
    "</div>\n",
    "\n",
    "Este es un proyecto inicial en Pygame. Asi que ¡Diviértanse explorando y desarrollando juegos y aplicaciones creativas!\n",
    "\n"
   ]
  },
  {
   "cell_type": "markdown",
   "metadata": {},
   "source": []
  }
 ],
 "metadata": {
  "language_info": {
   "name": "python"
  },
  "orig_nbformat": 4
 },
 "nbformat": 4,
 "nbformat_minor": 2
}
